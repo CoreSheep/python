{
  "cells": [
    {
      "cell_type": "code",
      "execution_count": 8,
      "metadata": {
        "collapsed": true,
        "pycharm": {
          "is_executing": false
        }
      },
      "outputs": [
        {
          "name": "stdout",
          "text": [
            "[1 2 3 4]\n"
          ],
          "output_type": "stream"
        }
      ],
      "source": "import numpy as np\n\na \u003d np.array([1, 2, 3, 4])\nprint(a)\n"
    },
    {
      "cell_type": "code",
      "execution_count": 9,
      "outputs": [
        {
          "name": "stdout",
          "text": [
            "Vectorized version: 3.0837059020996094ms\n"
          ],
          "output_type": "stream"
        }
      ],
      "source": "import time \na \u003d np.random.rand(1000000)\nb \u003d np.random.rand(1000000)\n\ntic \u003d time.time()\nc \u003d a.dot(b)\ntoc \u003d time.time()\n\nprint(\"Vectorized version: \" + str(1000 * (toc - tic)) + \"ms\")\n",
      "metadata": {
        "pycharm": {
          "metadata": false,
          "name": "#%%\n",
          "is_executing": false
        }
      }
    }
  ],
  "metadata": {
    "language_info": {
      "codemirror_mode": {
        "name": "ipython",
        "version": 2
      },
      "file_extension": ".py",
      "mimetype": "text/x-python",
      "name": "python",
      "nbconvert_exporter": "python",
      "pygments_lexer": "ipython2",
      "version": "2.7.6"
    },
    "kernelspec": {
      "name": "python3",
      "language": "python",
      "display_name": "Python 3"
    }
  },
  "nbformat": 4,
  "nbformat_minor": 0
}